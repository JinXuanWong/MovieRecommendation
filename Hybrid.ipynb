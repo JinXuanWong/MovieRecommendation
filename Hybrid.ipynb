{
 "cells": [
  {
   "cell_type": "code",
   "execution_count": 1,
   "metadata": {},
   "outputs": [
    {
     "name": "stdout",
     "output_type": "stream",
     "text": [
      "Requirement already satisfied: scikit-surprise in c:\\users\\wongj\\anaconda3\\lib\\site-packages (1.1.4)\n",
      "Requirement already satisfied: joblib>=1.2.0 in c:\\users\\wongj\\anaconda3\\lib\\site-packages (from scikit-surprise) (1.4.2)\n",
      "Requirement already satisfied: numpy>=1.19.5 in c:\\users\\wongj\\anaconda3\\lib\\site-packages (from scikit-surprise) (1.26.4)\n",
      "Requirement already satisfied: scipy>=1.6.0 in c:\\users\\wongj\\anaconda3\\lib\\site-packages (from scikit-surprise) (1.13.1)\n",
      "Note: you may need to restart the kernel to use updated packages.\n"
     ]
    }
   ],
   "source": [
    "pip install scikit-surprise"
   ]
  },
  {
   "cell_type": "code",
   "execution_count": 2,
   "metadata": {
    "id": "GL13nXJ3lyrd"
   },
   "outputs": [],
   "source": [
    "import os\n",
    "import pickle\n",
    "import pandas as pd\n",
    "import numpy as np\n",
    "import ast\n",
    "from sklearn.feature_extraction.text import TfidfVectorizer\n",
    "from sklearn.metrics.pairwise import cosine_similarity\n",
    "import matplotlib.pyplot as plt\n",
    "from surprise import Dataset, Reader, SVD\n",
    "from surprise.model_selection import cross_validate"
   ]
  },
  {
   "cell_type": "markdown",
   "metadata": {
    "id": "wFd2uPqTYpSz"
   },
   "source": [
    "**Load Preprocessed Data**\n",
    "\n",
    "\n",
    "\n"
   ]
  },
  {
   "cell_type": "code",
   "execution_count": 4,
   "metadata": {
    "id": "-IiXffHK0bhY"
   },
   "outputs": [],
   "source": [
    "movies_df = pd.read_csv(\"./CleanedData/movies_cleaned.csv\") \n",
    "ratings_df = pd.read_csv(\"./CleanedData/ratings_cleaned.csv\")"
   ]
  },
  {
   "cell_type": "markdown",
   "metadata": {
    "id": "wFd2uPqTYpSz"
   },
   "source": [
    "**Load Saved Models**\n",
    "\n",
    "\n",
    "\n"
   ]
  },
  {
   "cell_type": "code",
   "execution_count": 6,
   "metadata": {},
   "outputs": [
    {
     "name": "stdout",
     "output_type": "stream",
     "text": [
      " Loaded cosine similarity matrix, movie indices, and SVD model successfully!\n"
     ]
    }
   ],
   "source": [
    "with open(\"./Pickle/cosine_sim.pkl\", 'rb') as f:\n",
    "    cosine_sim = pickle.load(f)\n",
    "\n",
    "with open(\"./Pickle/indices.pkl\", 'rb') as f:\n",
    "    indices = pickle.load(f)\n",
    "\n",
    "with open(\"./Pickle/svd_model.pkl\", 'rb') as f:\n",
    "    svd = pickle.load(f)\n",
    "\n",
    "print(\" Loaded cosine similarity matrix, movie indices, and SVD model successfully!\")"
   ]
  },
  {
   "cell_type": "markdown",
   "metadata": {
    "id": "Mu0wJ7tU08zF"
   },
   "source": [
    "Load dataset into Surprise format for Collaborative Filtering"
   ]
  },
  {
   "cell_type": "code",
   "execution_count": 8,
   "metadata": {
    "id": "Kv7dkjAW0yVD"
   },
   "outputs": [
    {
     "name": "stdout",
     "output_type": "stream",
     "text": [
      "Evaluating RMSE, MAE of algorithm SVD on 5 split(s).\n",
      "\n",
      "                  Fold 1  Fold 2  Fold 3  Fold 4  Fold 5  Mean    Std     \n",
      "RMSE (testset)    0.8984  0.9007  0.8915  0.8899  0.8999  0.8961  0.0045  \n",
      "MAE (testset)     0.6933  0.6945  0.6846  0.6854  0.6918  0.6899  0.0041  \n",
      "Fit time          0.67    0.69    0.56    0.59    0.55    0.61    0.06    \n",
      "Test time         0.08    0.16    0.08    0.13    0.07    0.10    0.04    \n"
     ]
    },
    {
     "data": {
      "text/plain": [
       "<surprise.prediction_algorithms.matrix_factorization.SVD at 0x2d360e17b90>"
      ]
     },
     "execution_count": 8,
     "metadata": {},
     "output_type": "execute_result"
    }
   ],
   "source": [
    "# Load dataset into Surprise format for collaborative filtering\n",
    "reader = Reader(rating_scale=(1, 5))\n",
    "data = Dataset.load_from_df(ratings_df[['userId', 'movieId', 'rating']], reader)\n",
    "trainset = data.build_full_trainset()\n",
    "\n",
    "# Tune SVD model using cross-validation\n",
    "svd = SVD(n_factors=100, n_epochs=20, lr_all=0.005, reg_all=0.02)\n",
    "cross_validate(svd, data, measures=['RMSE', 'MAE'], cv=5, verbose=True)\n",
    "svd.fit(trainset)"
   ]
  },
  {
   "cell_type": "markdown",
   "metadata": {
    "id": "7jKLWDPD1Fz0"
   },
   "source": [
    "**Hybrid Recommendation Function**"
   ]
  },
  {
   "cell_type": "code",
   "execution_count": 10,
   "metadata": {
    "id": "r2P0xiJD1EEM"
   },
   "outputs": [],
   "source": [
    "from sklearn.preprocessing import MinMaxScaler\n",
    "\n",
    "def hybrid_recommend(user_id, movie_title, alpha=0.5, num_recommendations=10):\n",
    "    \"\"\"\n",
    "    Generate hybrid recommendations using content-based filtering (cosine similarity)\n",
    "    and collaborative filtering (SVD). Alpha controls the balance (0-1).\n",
    "    \"\"\"\n",
    "    movie_title = movie_title.lower().strip()\n",
    "\n",
    "    if movie_title not in indices:\n",
    "        print(f\"Movie title '{movie_title}' not found in dataset.\")\n",
    "        return pd.DataFrame(columns=['title', 'genres', 'release_year'])\n",
    "\n",
    "    # 1️⃣ Content-Based Recommendations\n",
    "    idx = indices[movie_title]\n",
    "    sim_scores = list(enumerate(cosine_sim[idx]))\n",
    "    sim_scores = sorted(sim_scores, key=lambda x: x[1], reverse=True)[1:num_recommendations+15]  # Extra movies to filter later\n",
    "    content_recs = {movies_df.iloc[i[0]].movieId: i[1] for i in sim_scores}\n",
    "\n",
    "    # Apply feature weighting to improve similarity\n",
    "    for movie_id in content_recs:\n",
    "        content_recs[movie_id] *= 1.2  # Give slightly more weight to content-based scores\n",
    "\n",
    "    # 2️⃣ Collaborative Filtering Recommendations (Predicted Ratings from SVD)\n",
    "    all_movie_ids = movies_df['movieId'].unique()\n",
    "    rated_movies = ratings_df[ratings_df['userId'] == user_id]['movieId'].tolist()\n",
    "\n",
    "    predicted_ratings = {}\n",
    "    for movie_id in all_movie_ids:\n",
    "        if movie_id not in rated_movies:\n",
    "            pred = svd.predict(user_id, movie_id)\n",
    "            if pred.est >= 3.0:  # Ignore low ratings\n",
    "                predicted_ratings[movie_id] = pred.est\n",
    "\n",
    "    # 3️⃣ Normalize Content & Collaborative Scores Separately\n",
    "    def normalize_scores(score_dict):\n",
    "        if not score_dict:\n",
    "            return {}\n",
    "        values = np.array(list(score_dict.values())).reshape(-1, 1)\n",
    "        scaler = MinMaxScaler()\n",
    "        normalized_values = scaler.fit_transform(values).flatten()\n",
    "        return {k: v for k, v in zip(score_dict.keys(), normalized_values)}\n",
    "\n",
    "    content_recs = normalize_scores(content_recs)\n",
    "    predicted_ratings = normalize_scores(predicted_ratings)\n",
    "\n",
    "    # 4️⃣ Compute Hybrid Scores (Adaptive Weighting)\n",
    "    hybrid_scores = {}\n",
    "    for movie_id in set(content_recs.keys()).union(set(predicted_ratings.keys())):\n",
    "        content_score = content_recs.get(movie_id, 0)\n",
    "        collab_score = predicted_ratings.get(movie_id, 0)\n",
    "        hybrid_scores[movie_id] = alpha * content_score + (1 - alpha) * collab_score\n",
    "\n",
    "    # 5️⃣ Get Top Recommendations\n",
    "    sorted_movies = sorted(hybrid_scores.items(), key=lambda x: x[1], reverse=True)[:num_recommendations]\n",
    "    recommended_movie_ids = [i[0] for i in sorted_movies]\n",
    "\n",
    "    return movies_df[movies_df['movieId'].isin(recommended_movie_ids)][['title', 'genres', 'release_year']]\n"
   ]
  },
  {
   "cell_type": "code",
   "execution_count": 11,
   "metadata": {
    "colab": {
     "base_uri": "https://localhost:8080/",
     "height": 195
    },
    "executionInfo": {
     "elapsed": 15,
     "status": "ok",
     "timestamp": 1739850697904,
     "user": {
      "displayName": "JIN XUAN WONG",
      "userId": "13853549625254319314"
     },
     "user_tz": -480
    },
    "id": "mswLIizrAcSn",
    "outputId": "f472e3e8-e22c-4189-e69c-9ddbc52792dc"
   },
   "outputs": [
    {
     "name": "stdout",
     "output_type": "stream",
     "text": [
      "                                  title  \\\n",
      "1898                                Big   \n",
      "2082                        Toy Story 2   \n",
      "2240                  Creature Comforts   \n",
      "2672           The Million Dollar Hotel   \n",
      "5248   Torrente The Dumb Arm Of The Law   \n",
      "6891                     License To Wed   \n",
      "8852                        Toy Story 3   \n",
      "12015               Toy Story Of Terror   \n",
      "13691        Toy Story That Time Forgot   \n",
      "17996                   The Adopted Son   \n",
      "\n",
      "                                        genres  release_year  \n",
      "1898   ['fantasy,drama,comedy,romance,family']          1988  \n",
      "2082               ['animation,comedy,family']          1999  \n",
      "2240               ['animation,comedy,family']          1989  \n",
      "2672                        ['drama,thriller']          2000  \n",
      "5248                          ['comedy,crime']          1998  \n",
      "6891                                ['comedy']          2007  \n",
      "8852               ['animation,family,comedy']          2010  \n",
      "12015              ['animation,comedy,family']          2013  \n",
      "13691                     ['animation,family']          2014  \n",
      "17996                                ['drama']          1998  \n"
     ]
    }
   ],
   "source": [
    "# Example usage\n",
    "recommendations = hybrid_recommend(user_id=1, movie_title=\"Toy Story\", alpha=0.8, num_recommendations=10)\n",
    "print(recommendations)"
   ]
  },
  {
   "cell_type": "code",
   "execution_count": 12,
   "metadata": {
    "colab": {
     "base_uri": "https://localhost:8080/",
     "height": 206
    },
    "executionInfo": {
     "elapsed": 12,
     "status": "ok",
     "timestamp": 1739850697904,
     "user": {
      "displayName": "JIN XUAN WONG",
      "userId": "13853549625254319314"
     },
     "user_tz": -480
    },
    "id": "N6VBT5TqA4Kt",
    "outputId": "b062258b-dcbd-451a-b5f3-ce872df789b6"
   },
   "outputs": [
    {
     "data": {
      "text/html": [
       "<div>\n",
       "<style scoped>\n",
       "    .dataframe tbody tr th:only-of-type {\n",
       "        vertical-align: middle;\n",
       "    }\n",
       "\n",
       "    .dataframe tbody tr th {\n",
       "        vertical-align: top;\n",
       "    }\n",
       "\n",
       "    .dataframe thead th {\n",
       "        text-align: right;\n",
       "    }\n",
       "</style>\n",
       "<table border=\"1\" class=\"dataframe\">\n",
       "  <thead>\n",
       "    <tr style=\"text-align: right;\">\n",
       "      <th></th>\n",
       "      <th>title</th>\n",
       "      <th>genres</th>\n",
       "      <th>release_year</th>\n",
       "    </tr>\n",
       "  </thead>\n",
       "  <tbody>\n",
       "    <tr>\n",
       "      <th>2672</th>\n",
       "      <td>The Million Dollar Hotel</td>\n",
       "      <td>['drama,thriller']</td>\n",
       "      <td>2000</td>\n",
       "    </tr>\n",
       "    <tr>\n",
       "      <th>11498</th>\n",
       "      <td>Star Trek Into Darkness</td>\n",
       "      <td>['action,adventure,sciencefiction']</td>\n",
       "      <td>2013</td>\n",
       "    </tr>\n",
       "    <tr>\n",
       "      <th>11724</th>\n",
       "      <td>Arena</td>\n",
       "      <td>['horror,sciencefiction']</td>\n",
       "      <td>1989</td>\n",
       "    </tr>\n",
       "    <tr>\n",
       "      <th>13961</th>\n",
       "      <td>Avatar 2</td>\n",
       "      <td>['action,adventure,fantasy,sciencefiction']</td>\n",
       "      <td>2020</td>\n",
       "    </tr>\n",
       "    <tr>\n",
       "      <th>14709</th>\n",
       "      <td>Transmorphers</td>\n",
       "      <td>['action,adventure,sciencefiction']</td>\n",
       "      <td>2007</td>\n",
       "    </tr>\n",
       "  </tbody>\n",
       "</table>\n",
       "</div>"
      ],
      "text/plain": [
       "                          title                                       genres  \\\n",
       "2672   The Million Dollar Hotel                           ['drama,thriller']   \n",
       "11498   Star Trek Into Darkness          ['action,adventure,sciencefiction']   \n",
       "11724                     Arena                    ['horror,sciencefiction']   \n",
       "13961                  Avatar 2  ['action,adventure,fantasy,sciencefiction']   \n",
       "14709             Transmorphers          ['action,adventure,sciencefiction']   \n",
       "\n",
       "       release_year  \n",
       "2672           2000  \n",
       "11498          2013  \n",
       "11724          1989  \n",
       "13961          2020  \n",
       "14709          2007  "
      ]
     },
     "execution_count": 12,
     "metadata": {},
     "output_type": "execute_result"
    }
   ],
   "source": [
    "# Example: Recommend movies for User 1 based on \"Avatar\"\n",
    "hybrid_recommend(user_id=1, movie_title=\"Avatar\", alpha=0.7, num_recommendations=5)"
   ]
  },
  {
   "cell_type": "markdown",
   "metadata": {
    "id": "4sR18ZOIAn2r"
   },
   "source": [
    "**Evaluation**"
   ]
  },
  {
   "cell_type": "code",
   "execution_count": 14,
   "metadata": {},
   "outputs": [],
   "source": [
    "# Create User-Item Matrix\n",
    "user_item_matrix = ratings_df.pivot(index=\"userId\", columns=\"movieId\", values=\"rating\").fillna(0)\n",
    "\n",
    "# Convert cosine similarity matrix to DataFrame\n",
    "item_similarity_df = pd.DataFrame(cosine_sim, index=movies_df[\"movieId\"], columns=movies_df[\"movieId\"])\n"
   ]
  },
  {
   "cell_type": "code",
   "execution_count": 15,
   "metadata": {},
   "outputs": [],
   "source": [
    "# Find common movieIds between item_similarity_df and user_item_matrix\n",
    "common_movieIds = list(set(item_similarity_df.index) & set(user_item_matrix.columns))\n",
    "\n",
    "# Keep only common movieIds in item_similarity_df\n",
    "item_similarity_df = item_similarity_df.loc[common_movieIds, common_movieIds]\n",
    "\n",
    "# Keep only common movieIds in user_item_matrix\n",
    "user_item_matrix = user_item_matrix[common_movieIds]"
   ]
  },
  {
   "cell_type": "code",
   "execution_count": 16,
   "metadata": {
    "id": "P07OZRRzAsT5"
   },
   "outputs": [],
   "source": [
    "from sklearn.metrics import precision_score, recall_score\n",
    "\n",
    "def evaluate_hybrid_model(test_movies, model_function, user_item_matrix, item_similarity_df, alpha=0.8, k_values=[5, 10, 15, 20]):\n",
    "    precision_scores = []\n",
    "    recall_scores = []\n",
    "\n",
    "    for k in k_values:\n",
    "        k_precision = []\n",
    "        k_recall = []\n",
    "\n",
    "        for movie in test_movies:\n",
    "            recommendations = model_function(user_id=1, movie_title=movie, alpha=alpha, num_recommendations=k)['title'].tolist()\n",
    "\n",
    "            # Ensure movie exists before accessing 'genres'\n",
    "            matched_movies = movies_df[movies_df['title'].str.contains(movie, case=False, na=False)]\n",
    "            if matched_movies.empty:\n",
    "                continue  \n",
    "\n",
    "            movie_id = matched_movies.iloc[0]['movieId']\n",
    "            true_genres = set(matched_movies.iloc[0]['genres'].split()) if isinstance(matched_movies.iloc[0]['genres'], str) else set()\n",
    "\n",
    "            # Jaccard Similarity for Genre Matching\n",
    "            def jaccard_similarity(genre1, genre2):\n",
    "                set1 = set(genre1.split()) if isinstance(genre1, str) else set()\n",
    "                set2 = set(genre2.split()) if isinstance(genre2, str) else set()\n",
    "                intersection = len(set1 & set2)\n",
    "                union = len(set1 | set2)\n",
    "                return intersection / union if union > 0 else 0\n",
    "\n",
    "            # Get relevant movies based on Jaccard similarity > 0.3\n",
    "            relevant_movies = movies_df[\n",
    "                movies_df['genres'].apply(lambda x: jaccard_similarity(x, matched_movies.iloc[0]['genres']) >= 0.3)\n",
    "            ]['title'].tolist()\n",
    "\n",
    "            # Apply cosine similarity threshold (0.1)\n",
    "            if movie_id in item_similarity_df.index:\n",
    "                relevant_movies = [\n",
    "                    title for title in relevant_movies\n",
    "                    if title in movies_df['title'].values and \n",
    "                    item_similarity_df.loc[movie_id, movies_df[movies_df['title'] == title]['movieId'].values[0]] > 0.1\n",
    "                ]\n",
    "\n",
    "            # Calculate Precision & Recall\n",
    "            relevant_recommendations = set(recommendations) & set(relevant_movies)\n",
    "            precision = len(relevant_recommendations) / k if k > 0 else 0\n",
    "            recall = len(relevant_recommendations) / len(relevant_movies) if len(relevant_movies) > 0 else 0\n",
    "\n",
    "            k_precision.append(precision)\n",
    "            k_recall.append(recall)\n",
    "\n",
    "        precision_scores.append(np.mean(k_precision) if k_precision else 0)\n",
    "        recall_scores.append(np.mean(k_recall) if k_recall else 0)\n",
    "\n",
    "    return k_values, precision_scores, recall_scores"
   ]
  },
  {
   "cell_type": "code",
   "execution_count": 17,
   "metadata": {
    "colab": {
     "base_uri": "https://localhost:8080/"
    },
    "executionInfo": {
     "elapsed": 3573,
     "status": "ok",
     "timestamp": 1739850701468,
     "user": {
      "displayName": "JIN XUAN WONG",
      "userId": "13853549625254319314"
     },
     "user_tz": -480
    },
    "id": "zZv3asJHAt2V",
    "outputId": "e69f84fa-47d6-4738-aea9-4d2c4349a684"
   },
   "outputs": [
    {
     "name": "stdout",
     "output_type": "stream",
     "text": [
      "\n",
      "Hybrid Model Evaluation Results:\n",
      "  k=5: Precision=0.1600, Recall=0.0049\n",
      "  k=10: Precision=0.1767, Recall=0.0070\n",
      "  k=15: Precision=0.1489, Recall=0.0082\n",
      "  k=20: Precision=0.1300, Recall=0.0103\n"
     ]
    }
   ],
   "source": [
    "# Run evaluation\n",
    "test_movies = movies_df['title'].sample(30, random_state=42).tolist()\n",
    "\n",
    "k_values, precision_scores, recall_scores = evaluate_hybrid_model(\n",
    "    test_movies,\n",
    "    hybrid_recommend,\n",
    "    user_item_matrix,\n",
    "    item_similarity_df,\n",
    "    alpha=0.8,  # Best Alpha value\n",
    "    k_values=[5, 10, 15, 20]\n",
    ")\n",
    "\n",
    "# Print results\n",
    "print(\"\\nHybrid Model Evaluation Results:\")\n",
    "for k, precision, recall in zip(k_values, precision_scores, recall_scores):\n",
    "    print(f\"  k={k}: Precision={precision:.4f}, Recall={recall:.4f}\")"
   ]
  },
  {
   "cell_type": "code",
   "execution_count": 18,
   "metadata": {
    "colab": {
     "base_uri": "https://localhost:8080/",
     "height": 450
    },
    "executionInfo": {
     "elapsed": 14,
     "status": "ok",
     "timestamp": 1739850701468,
     "user": {
      "displayName": "JIN XUAN WONG",
      "userId": "13853549625254319314"
     },
     "user_tz": -480
    },
    "id": "-ftpe2GzA_zn",
    "outputId": "0713a00a-a6ff-4d89-b5b4-a8351e16e73f"
   },
   "outputs": [
    {
     "data": {
      "image/png": "[encoded data removed]",
      "text/plain": [
       "<Figure size 800x500 with 1 Axes>"
      ]
     },
     "metadata": {},
     "output_type": "display_data"
    }
   ],
   "source": [
    "# Plot Precision-Recall Curve\n",
    "plt.figure(figsize=(8, 5))\n",
    "plt.plot(recall_scores, precision_scores, marker='o', linestyle='-', color='b', label=\"Hybrid Model Precision-Recall\")\n",
    "plt.xlabel(\"Recall\")\n",
    "plt.ylabel(\"Precision\")\n",
    "plt.title(\"Precision-Recall Curve for Hybrid Movie Recommendation\")\n",
    "plt.grid(True)\n",
    "\n",
    "# Annotate k values on the plot\n",
    "for i, k in enumerate(k_values):\n",
    "    plt.annotate(f\"k={k}\", (recall_scores[i], precision_scores[i]), textcoords=\"offset points\", xytext=(-10,5), ha='center')\n",
    "\n",
    "plt.legend()\n",
    "plt.show()"
   ]
  },
  {
   "cell_type": "code",
   "execution_count": 19,
   "metadata": {
    "id": "xM8MXMx2EP3J"
   },
   "outputs": [],
   "source": [
    "from sklearn.metrics import mean_squared_error, mean_absolute_error\n",
    "\n",
    "def evaluate_hybrid_rmse(test_users, user_item_matrix, item_similarity_df, svd, alpha=0.5):\n",
    "    actual_ratings = []   # Initialize as an empty list\n",
    "    predicted_ratings = [] # Initialize as an empty list\n",
    "\n",
    "    for user_id in test_users:\n",
    "        if user_id not in user_item_matrix.index:\n",
    "            continue\n",
    "\n",
    "        user_actual = ratings_df[ratings_df['userId'] == user_id][['movieId', 'rating']]\n",
    "        \n",
    "        for movie_id, actual_rating in zip(user_actual['movieId'], user_actual['rating']):\n",
    "            # Skip if movie_id is missing in item_similarity_df\n",
    "            if movie_id not in item_similarity_df.columns:\n",
    "                continue\n",
    "\n",
    "            # Content-based score (cosine similarity)\n",
    "            content_score = item_similarity_df[movie_id].dot(user_item_matrix.loc[user_id]) / (item_similarity_df[movie_id].sum() + 1e-5)\n",
    "\n",
    "            # Collaborative filtering score (SVD prediction)\n",
    "            pred = svd.predict(user_id, movie_id).est\n",
    "\n",
    "            # Hybrid Score\n",
    "            hybrid_score = alpha * content_score + (1 - alpha) * pred\n",
    "\n",
    "            predicted_ratings.append(hybrid_score)\n",
    "            actual_ratings.append(actual_rating)\n",
    "\n",
    "    if not actual_ratings:\n",
    "        print(\"No valid test data for RMSE computation.\")\n",
    "        return None, None  # Ensure function still returns two values\n",
    "\n",
    "    # Compute RMSE and MAE\n",
    "    mse = mean_squared_error(actual_ratings, predicted_ratings)\n",
    "    rmse = np.sqrt(mse)\n",
    "    mae = mean_absolute_error(actual_ratings, predicted_ratings)\n",
    "\n",
    "    print(f\"--- Hybrid Model Evaluation ---\")\n",
    "    print(f\"Hybrid MAE: {mae:.4f}\")\n",
    "    print(f\"Hybrid MSE: {mse:.4f}\")\n",
    "    print(f\"Hybrid RMSE: {rmse:.4f}\\n\")\n",
    "\n",
    "    return mse, rmse\n"
   ]
  },
  {
   "cell_type": "code",
   "execution_count": 20,
   "metadata": {},
   "outputs": [
    {
     "name": "stdout",
     "output_type": "stream",
     "text": [
      "--- Hybrid Model Evaluation ---\n",
      "Hybrid MAE: 0.6081\n",
      "Hybrid MSE: 0.5400\n",
      "Hybrid RMSE: 0.7348\n",
      "\n",
      "--- Hybrid Model Evaluation ---\n",
      "Hybrid MAE: 1.0302\n",
      "Hybrid MSE: 1.3535\n",
      "Hybrid RMSE: 1.1634\n",
      "\n",
      "--- Hybrid Model Evaluation ---\n",
      "Hybrid MAE: 1.5640\n",
      "Hybrid MSE: 2.9273\n",
      "Hybrid RMSE: 1.7109\n",
      "\n",
      "--- Hybrid Model Evaluation ---\n",
      "Hybrid MAE: 2.1484\n",
      "Hybrid MSE: 5.2612\n",
      "Hybrid RMSE: 2.2937\n",
      "\n",
      "--- Hybrid Model Evaluation ---\n",
      "Hybrid MAE: 2.7438\n",
      "Hybrid MSE: 8.3553\n",
      "Hybrid RMSE: 2.8906\n",
      "\n",
      "Optimal Alpha: 0.1\n"
     ]
    }
   ],
   "source": [
    "np.random.seed(42)\n",
    "test_users = np.random.choice(ratings_df['userId'].unique(), size=10, replace=False)\n",
    "\n",
    "alpha_values = [0.1, 0.3, 0.5, 0.7, 0.9]\n",
    "rmse_scores = []\n",
    "\n",
    "for alpha in alpha_values:\n",
    "    _, rmse = evaluate_hybrid_rmse(test_users, user_item_matrix, item_similarity_df, svd, alpha)\n",
    "    if rmse is not None:\n",
    "        rmse_scores.append(rmse)\n",
    "\n",
    "# Find best alpha\n",
    "best_alpha = min(zip(alpha_values, rmse_scores), key=lambda x: x[1])[0]  \n",
    "print(f\"Optimal Alpha: {best_alpha}\")\n"
   ]
  },
  {
   "cell_type": "code",
   "execution_count": 21,
   "metadata": {
    "colab": {
     "base_uri": "https://localhost:8080/",
     "height": 455
    },
    "executionInfo": {
     "elapsed": 1002,
     "status": "ok",
     "timestamp": 1739850703228,
     "user": {
      "displayName": "JIN XUAN WONG",
      "userId": "13853549625254319314"
     },
     "user_tz": -480
    },
    "id": "r9VLFXoBEmv2",
    "outputId": "8cf7de62-efc7-461a-a8e6-49960e5de5c2"
   },
   "outputs": [
    {
     "data": {
      "image/png": "[encoded data removed]",
      "text/plain": [
       "<Figure size 800x500 with 1 Axes>"
      ]
     },
     "metadata": {},
     "output_type": "display_data"
    }
   ],
   "source": [
    "# Plot RMSE vs. Alpha\n",
    "plt.figure(figsize=(8, 5))\n",
    "plt.plot(alpha_values, rmse_scores, marker='o', linestyle='-', color='b')\n",
    "plt.xlabel(\"Alpha Value\")\n",
    "plt.ylabel(\"RMSE\")\n",
    "plt.title(\"Hybrid Model RMSE vs Alpha\")\n",
    "plt.grid(True)\n",
    "plt.show()"
   ]
  },
  {
   "cell_type": "code",
   "execution_count": null,
   "metadata": {
    "id": "1mYIKsu0ZE_P"
   },
   "outputs": [],
   "source": []
  }
 ],
 "metadata": {
  "colab": {
   "authorship_tag": "ABX9TyMjWyhQqS8bpIkJk8Da9frN",
   "provenance": []
  },
  "kernelspec": {
   "display_name": "Python 3 (ipykernel)",
   "language": "python",
   "name": "python3"
  },
  "language_info": {
   "codemirror_mode": {
    "name": "ipython",
    "version": 3
   },
   "file_extension": ".py",
   "mimetype": "text/x-python",
   "name": "python",
   "nbconvert_exporter": "python",
   "pygments_lexer": "ipython3",
   "version": "3.12.4"
  }
 },
 "nbformat": 4,
 "nbformat_minor": 4
}
