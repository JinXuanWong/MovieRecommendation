{
 "cells": [
  {
   "cell_type": "code",
   "execution_count": 45,
   "metadata": {
    "executionInfo": {
     "elapsed": 1563,
     "status": "ok",
     "timestamp": 1739887223431,
     "user": {
      "displayName": "JIN XUAN WONG",
      "userId": "13853549625254319314"
     },
     "user_tz": -480
    },
    "id": "Lbg9eBjq4-82"
   },
   "outputs": [],
   "source": [
    "import pandas as pd\n",
    "import numpy as np\n",
    "import matplotlib.pyplot as plt\n",
    "import ast\n",
    "from sklearn.feature_extraction.text import TfidfVectorizer\n",
    "from sklearn.metrics.pairwise import cosine_similarity"
   ]
  },
  {
   "cell_type": "markdown",
   "metadata": {
    "id": "wFd2uPqTYpSz"
   },
   "source": [
    "**Load Preprocessed Data**\n",
    "\n",
    "\n",
    "\n"
   ]
  },
  {
   "cell_type": "code",
   "execution_count": 56,
   "metadata": {
    "executionInfo": {
     "elapsed": 1012,
     "status": "ok",
     "timestamp": 1739887250956,
     "user": {
      "displayName": "JIN XUAN WONG",
      "userId": "13853549625254319314"
     },
     "user_tz": -480
    },
    "id": "YXGsxDYjYnJA"
   },
   "outputs": [],
   "source": [
    "# Load datasets from local directory\n",
    "movies_df = pd.read_csv(\"./CleanedData/movies_cleaned.csv\") \n",
    "ratings_df = pd.read_csv(\"./CleanedData/ratings_cleaned.csv\")"
   ]
  },
  {
   "cell_type": "markdown",
   "metadata": {
    "id": "hrXtlSJfeaOB"
   },
   "source": [
    "Cleaning and Processing List-Like Columns"
   ]
  },
  {
   "cell_type": "code",
   "execution_count": 59,
   "metadata": {},
   "outputs": [],
   "source": [
    "# Function to safely convert string representation of lists into actual lists\n",
    "def safe_eval(value):\n",
    "    try:\n",
    "        return ast.literal_eval(value) if isinstance(value, str) else value\n",
    "    except:\n",
    "        return []  # Return empty list if conversion fails\n",
    "\n",
    "# Apply safe_eval to convert stringified lists into real lists\n",
    "movies_df['genres'] = movies_df['genres'].apply(safe_eval)\n",
    "movies_df['keywords'] = movies_df['keywords'].apply(safe_eval)\n",
    "movies_df['cast'] = movies_df['cast'].apply(safe_eval)\n",
    "movies_df['director'] = movies_df['director'].apply(safe_eval)\n",
    "\n",
    "# Function to process genres, keywords, and directors into a single string\n",
    "def process_metadata(value):\n",
    "    return ' '.join(value) if isinstance(value, list) else ''\n",
    "\n",
    "# Apply processing function\n",
    "movies_df['genres'] = movies_df['genres'].apply(process_metadata)\n",
    "movies_df['keywords'] = movies_df['keywords'].apply(process_metadata)\n",
    "movies_df['director'] = movies_df['director'].apply(process_metadata)\n",
    "movies_df['cast'] = movies_df['cast'].apply(lambda x: ' '.join(x[:3]) if isinstance(x, list) else '')"
   ]
  },
  {
   "cell_type": "markdown",
   "metadata": {
    "id": "hrXtlSJfeaOB"
   },
   "source": [
    "Creating \"Metadata Soup\" for Content-Based Filtering"
   ]
  },
  {
   "cell_type": "code",
   "execution_count": 65,
   "metadata": {},
   "outputs": [
    {
     "data": {
      "text/html": [
       "<div>\n",
       "<style scoped>\n",
       "    .dataframe tbody tr th:only-of-type {\n",
       "        vertical-align: middle;\n",
       "    }\n",
       "\n",
       "    .dataframe tbody tr th {\n",
       "        vertical-align: top;\n",
       "    }\n",
       "\n",
       "    .dataframe thead th {\n",
       "        text-align: right;\n",
       "    }\n",
       "</style>\n",
       "<table border=\"1\" class=\"dataframe\">\n",
       "  <thead>\n",
       "    <tr style=\"text-align: right;\">\n",
       "      <th></th>\n",
       "      <th>movieId</th>\n",
       "      <th>title</th>\n",
       "      <th>metadata_soup</th>\n",
       "    </tr>\n",
       "  </thead>\n",
       "  <tbody>\n",
       "    <tr>\n",
       "      <th>0</th>\n",
       "      <td>862</td>\n",
       "      <td>Toy Story</td>\n",
       "      <td>animation,comedy,family jealousy,toy,boy,frien...</td>\n",
       "    </tr>\n",
       "    <tr>\n",
       "      <th>1</th>\n",
       "      <td>8844</td>\n",
       "      <td>Jumanji</td>\n",
       "      <td>adventure,fantasy,family boardgame,disappearan...</td>\n",
       "    </tr>\n",
       "    <tr>\n",
       "      <th>2</th>\n",
       "      <td>15602</td>\n",
       "      <td>Grumpier Old Men</td>\n",
       "      <td>romance,comedy fishing,bestfriend,duringcredit...</td>\n",
       "    </tr>\n",
       "    <tr>\n",
       "      <th>3</th>\n",
       "      <td>31357</td>\n",
       "      <td>Waiting To Exhale</td>\n",
       "      <td>comedy,drama,romance basedonnovel,interracialr...</td>\n",
       "    </tr>\n",
       "    <tr>\n",
       "      <th>4</th>\n",
       "      <td>11862</td>\n",
       "      <td>Father Of The Bride Part Ii</td>\n",
       "      <td>comedy baby,midlifecrisis,confidence,aging,dau...</td>\n",
       "    </tr>\n",
       "  </tbody>\n",
       "</table>\n",
       "</div>"
      ],
      "text/plain": [
       "   movieId                        title  \\\n",
       "0      862                    Toy Story   \n",
       "1     8844                      Jumanji   \n",
       "2    15602             Grumpier Old Men   \n",
       "3    31357            Waiting To Exhale   \n",
       "4    11862  Father Of The Bride Part Ii   \n",
       "\n",
       "                                       metadata_soup  \n",
       "0  animation,comedy,family jealousy,toy,boy,frien...  \n",
       "1  adventure,fantasy,family boardgame,disappearan...  \n",
       "2  romance,comedy fishing,bestfriend,duringcredit...  \n",
       "3  comedy,drama,romance basedonnovel,interracialr...  \n",
       "4  comedy baby,midlifecrisis,confidence,aging,dau...  "
      ]
     },
     "execution_count": 65,
     "metadata": {},
     "output_type": "execute_result"
    }
   ],
   "source": [
    "movies_df['metadata_soup'] = (\n",
    "    movies_df['genres'] + \" \" +\n",
    "    movies_df['keywords'] + \" \" +\n",
    "    movies_df['cast'] + \" \" +\n",
    "    movies_df['director']\n",
    ")\n",
    "\n",
    "# Handle missing values\n",
    "movies_df['metadata_soup'] = movies_df['metadata_soup'].fillna('')\n",
    "\n",
    "# Display sample data\n",
    "movies_df[['movieId', 'title', 'metadata_soup']].head()"
   ]
  },
  {
   "cell_type": "markdown",
   "metadata": {
    "id": "4DQOIu-Pe9Es"
   },
   "source": [
    "TF-IDF Vectorizer (Convert text features into numerical vectors)"
   ]
  },
  {
   "cell_type": "code",
   "execution_count": 67,
   "metadata": {
    "colab": {
     "base_uri": "https://localhost:8080/"
    },
    "executionInfo": {
     "elapsed": 3545,
     "status": "ok",
     "timestamp": 1739887257667,
     "user": {
      "displayName": "JIN XUAN WONG",
      "userId": "13853549625254319314"
     },
     "user_tz": -480
    },
    "id": "1RpB6yw7cN6M",
    "outputId": "cc26a1cd-4007-46c9-e450-8067314930ae"
   },
   "outputs": [
    {
     "name": "stdout",
     "output_type": "stream",
     "text": [
      "TF-IDF matrix shape: (21818, 43918)\n"
     ]
    }
   ],
   "source": [
    "# Initialize TF-IDF Vectorizer\n",
    "tfidf = TfidfVectorizer(stop_words='english')\n",
    "\n",
    "# Convert metadata soup into a matrix\n",
    "tfidf_matrix = tfidf.fit_transform(movies_df['metadata_soup'])\n",
    "\n",
    "# Check the shape of the TF-IDF matrix\n",
    "print(f\"TF-IDF matrix shape: {tfidf_matrix.shape}\")\n"
   ]
  },
  {
   "cell_type": "markdown",
   "metadata": {
    "id": "0esmbZ1Vfp9P"
   },
   "source": [
    "Compute Cosine Similarity between Movies"
   ]
  },
  {
   "cell_type": "code",
   "execution_count": 70,
   "metadata": {
    "colab": {
     "base_uri": "https://localhost:8080/"
    },
    "executionInfo": {
     "elapsed": 15193,
     "status": "ok",
     "timestamp": 1739887272857,
     "user": {
      "displayName": "JIN XUAN WONG",
      "userId": "13853549625254319314"
     },
     "user_tz": -480
    },
    "id": "gOBeCBmXfSrN",
    "outputId": "b3bf3ffc-d334-49f2-f8f7-ad72092890f4"
   },
   "outputs": [
    {
     "name": "stdout",
     "output_type": "stream",
     "text": [
      "Cosine Similarity Matrix shape: (21818, 21818)\n"
     ]
    }
   ],
   "source": [
    "# Compute the cosine similarity matrix\n",
    "cosine_sim = cosine_similarity(tfidf_matrix, tfidf_matrix)\n",
    "\n",
    "# Check the shape of the similarity matrix\n",
    "print(f\"Cosine Similarity Matrix shape: {cosine_sim.shape}\")"
   ]
  },
  {
   "cell_type": "code",
   "execution_count": 72,
   "metadata": {
    "colab": {
     "base_uri": "https://localhost:8080/",
     "height": 434
    },
    "executionInfo": {
     "elapsed": 20699,
     "status": "ok",
     "timestamp": 1739887293549,
     "user": {
      "displayName": "JIN XUAN WONG",
      "userId": "13853549625254319314"
     },
     "user_tz": -480
    },
    "id": "wXkyx2qMEP6L",
    "outputId": "bb9b5ba3-686a-4d49-cdd0-2ac9075624da"
   },
   "outputs": [
    {
     "data": {
      "image/png": "[encoded data removed]",
      "text/plain": [
       "<Figure size 1000x600 with 1 Axes>"
      ]
     },
     "metadata": {},
     "output_type": "display_data"
    }
   ],
   "source": [
    "# Plot the distribution of cosine similarity scores\n",
    "plt.figure(figsize=(10, 6))\n",
    "plt.hist(cosine_sim.flatten(), bins=50, color='lightblue', edgecolor='black')\n",
    "plt.title(\"Distribution of Cosine Similarity Scores\")\n",
    "plt.xlabel(\"Cosine Similarity\")\n",
    "plt.ylabel(\"Frequency\")\n",
    "plt.grid(True)\n",
    "plt.show()\n"
   ]
  },
  {
   "cell_type": "markdown",
   "metadata": {
    "id": "HuP5WV3igBAX"
   },
   "source": [
    "Recommendation function"
   ]
  },
  {
   "cell_type": "code",
   "execution_count": 74,
   "metadata": {
    "executionInfo": {
     "elapsed": 24,
     "status": "ok",
     "timestamp": 1739887293550,
     "user": {
      "displayName": "JIN XUAN WONG",
      "userId": "13853549625254319314"
     },
     "user_tz": -480
    },
    "id": "bNj8tLe9ft3o"
   },
   "outputs": [],
   "source": [
    "# Create a mapping of movie titles to indices\n",
    "indices = pd.Series(movies_df.index, index=movies_df['title'].str.lower().str.strip()).drop_duplicates()\n",
    "\n",
    "def recommend_movies(title, num_recommendations=10):\n",
    "    \"\"\"Returns the top N recommended movies based on cosine similarity.\"\"\"\n",
    "    title = title.lower().strip()  # Convert to lowercase & remove extra spaces\n",
    "\n",
    "    if title not in indices:\n",
    "        print(f\"Movie title '{title}' not found in dataset.\")\n",
    "        return pd.DataFrame(columns=['title', 'genres', 'release_year'])\n",
    "\n",
    "    idx = indices[title]  # Get index of the movie\n",
    "    sim_scores = list(enumerate(cosine_sim[idx].flatten()))  # Ensure similarity scores are 1D\n",
    "\n",
    "    # Sort by similarity scores (excluding itself)\n",
    "    sim_scores = sorted(sim_scores, key=lambda x: float(x[1]), reverse=True)[1:num_recommendations+1]\n",
    "\n",
    "    # Extract valid movie indices\n",
    "    movie_indices = [i[0] for i in sim_scores if i[0] < len(movies_df)]\n",
    "\n",
    "    return movies_df.iloc[movie_indices][['title', 'genres', 'release_year']]"
   ]
  },
  {
   "cell_type": "markdown",
   "metadata": {
    "id": "wt7uS4njgAZh"
   },
   "source": [
    "Testing Recommendation System"
   ]
  },
  {
   "cell_type": "code",
   "execution_count": 77,
   "metadata": {
    "colab": {
     "base_uri": "https://localhost:8080/",
     "height": 241
    },
    "executionInfo": {
     "elapsed": 23,
     "status": "ok",
     "timestamp": 1739887293550,
     "user": {
      "displayName": "JIN XUAN WONG",
      "userId": "13853549625254319314"
     },
     "user_tz": -480
    },
    "id": "1EULup9_f_47",
    "outputId": "2e825f69-74fb-4723-c8ac-e931b3b7186a"
   },
   "outputs": [
    {
     "data": {
      "text/html": [
       "<div>\n",
       "<style scoped>\n",
       "    .dataframe tbody tr th:only-of-type {\n",
       "        vertical-align: middle;\n",
       "    }\n",
       "\n",
       "    .dataframe tbody tr th {\n",
       "        vertical-align: top;\n",
       "    }\n",
       "\n",
       "    .dataframe thead th {\n",
       "        text-align: right;\n",
       "    }\n",
       "</style>\n",
       "<table border=\"1\" class=\"dataframe\">\n",
       "  <thead>\n",
       "    <tr style=\"text-align: right;\">\n",
       "      <th></th>\n",
       "      <th>title</th>\n",
       "      <th>genres</th>\n",
       "      <th>release_year</th>\n",
       "    </tr>\n",
       "  </thead>\n",
       "  <tbody>\n",
       "    <tr>\n",
       "      <th>13691</th>\n",
       "      <td>Toy Story That Time Forgot</td>\n",
       "      <td>animation,family</td>\n",
       "      <td>2014</td>\n",
       "    </tr>\n",
       "    <tr>\n",
       "      <th>8852</th>\n",
       "      <td>Toy Story 3</td>\n",
       "      <td>animation,family,comedy</td>\n",
       "      <td>2010</td>\n",
       "    </tr>\n",
       "    <tr>\n",
       "      <th>12015</th>\n",
       "      <td>Toy Story Of Terror</td>\n",
       "      <td>animation,comedy,family</td>\n",
       "      <td>2013</td>\n",
       "    </tr>\n",
       "    <tr>\n",
       "      <th>2082</th>\n",
       "      <td>Toy Story 2</td>\n",
       "      <td>animation,comedy,family</td>\n",
       "      <td>1999</td>\n",
       "    </tr>\n",
       "    <tr>\n",
       "      <th>2240</th>\n",
       "      <td>Creature Comforts</td>\n",
       "      <td>animation,comedy,family</td>\n",
       "      <td>1989</td>\n",
       "    </tr>\n",
       "  </tbody>\n",
       "</table>\n",
       "</div>"
      ],
      "text/plain": [
       "                            title                   genres  release_year\n",
       "13691  Toy Story That Time Forgot         animation,family          2014\n",
       "8852                  Toy Story 3  animation,family,comedy          2010\n",
       "12015         Toy Story Of Terror  animation,comedy,family          2013\n",
       "2082                  Toy Story 2  animation,comedy,family          1999\n",
       "2240            Creature Comforts  animation,comedy,family          1989"
      ]
     },
     "execution_count": 77,
     "metadata": {},
     "output_type": "execute_result"
    }
   ],
   "source": [
    "recommend_movies(\"Toy Story\", 5)"
   ]
  },
  {
   "cell_type": "code",
   "execution_count": 79,
   "metadata": {
    "colab": {
     "base_uri": "https://localhost:8080/",
     "height": 293
    },
    "executionInfo": {
     "elapsed": 23,
     "status": "ok",
     "timestamp": 1739887293552,
     "user": {
      "displayName": "JIN XUAN WONG",
      "userId": "13853549625254319314"
     },
     "user_tz": -480
    },
    "id": "bmFBIZjrifg4",
    "outputId": "d82a866c-36ce-4491-af87-6f261fa2a03b"
   },
   "outputs": [
    {
     "data": {
      "text/html": [
       "<div>\n",
       "<style scoped>\n",
       "    .dataframe tbody tr th:only-of-type {\n",
       "        vertical-align: middle;\n",
       "    }\n",
       "\n",
       "    .dataframe tbody tr th {\n",
       "        vertical-align: top;\n",
       "    }\n",
       "\n",
       "    .dataframe thead th {\n",
       "        text-align: right;\n",
       "    }\n",
       "</style>\n",
       "<table border=\"1\" class=\"dataframe\">\n",
       "  <thead>\n",
       "    <tr style=\"text-align: right;\">\n",
       "      <th></th>\n",
       "      <th>title</th>\n",
       "      <th>genres</th>\n",
       "      <th>release_year</th>\n",
       "    </tr>\n",
       "  </thead>\n",
       "  <tbody>\n",
       "    <tr>\n",
       "      <th>8069</th>\n",
       "      <td>Transformers Revenge Of The Fallen</td>\n",
       "      <td>sciencefiction,action,adventure</td>\n",
       "      <td>2009</td>\n",
       "    </tr>\n",
       "    <tr>\n",
       "      <th>21589</th>\n",
       "      <td>Transformers The Last Knight</td>\n",
       "      <td>action,sciencefiction,thriller,adventure</td>\n",
       "      <td>2017</td>\n",
       "    </tr>\n",
       "    <tr>\n",
       "      <th>2560</th>\n",
       "      <td>The Transformers The Movie</td>\n",
       "      <td>animation</td>\n",
       "      <td>1986</td>\n",
       "    </tr>\n",
       "    <tr>\n",
       "      <th>12765</th>\n",
       "      <td>Transformers Age Of Extinction</td>\n",
       "      <td>sciencefiction,action,adventure</td>\n",
       "      <td>2014</td>\n",
       "    </tr>\n",
       "    <tr>\n",
       "      <th>9712</th>\n",
       "      <td>Transformers Dark Of The Moon</td>\n",
       "      <td>action,sciencefiction,adventure</td>\n",
       "      <td>2011</td>\n",
       "    </tr>\n",
       "  </tbody>\n",
       "</table>\n",
       "</div>"
      ],
      "text/plain": [
       "                                    title  \\\n",
       "8069   Transformers Revenge Of The Fallen   \n",
       "21589        Transformers The Last Knight   \n",
       "2560           The Transformers The Movie   \n",
       "12765      Transformers Age Of Extinction   \n",
       "9712        Transformers Dark Of The Moon   \n",
       "\n",
       "                                         genres  release_year  \n",
       "8069            sciencefiction,action,adventure          2009  \n",
       "21589  action,sciencefiction,thriller,adventure          2017  \n",
       "2560                                  animation          1986  \n",
       "12765           sciencefiction,action,adventure          2014  \n",
       "9712            action,sciencefiction,adventure          2011  "
      ]
     },
     "execution_count": 79,
     "metadata": {},
     "output_type": "execute_result"
    }
   ],
   "source": [
    "recommend_movies(\"Transformers\", 5)"
   ]
  },
  {
   "cell_type": "code",
   "execution_count": 81,
   "metadata": {
    "colab": {
     "base_uri": "https://localhost:8080/",
     "height": 195
    },
    "executionInfo": {
     "elapsed": 23,
     "status": "ok",
     "timestamp": 1739887293553,
     "user": {
      "displayName": "JIN XUAN WONG",
      "userId": "13853549625254319314"
     },
     "user_tz": -480
    },
    "id": "2Zw49EwPikhx",
    "outputId": "a423babf-3e9a-403a-8156-df7702caafcb"
   },
   "outputs": [
    {
     "data": {
      "text/html": [
       "<div>\n",
       "<style scoped>\n",
       "    .dataframe tbody tr th:only-of-type {\n",
       "        vertical-align: middle;\n",
       "    }\n",
       "\n",
       "    .dataframe tbody tr th {\n",
       "        vertical-align: top;\n",
       "    }\n",
       "\n",
       "    .dataframe thead th {\n",
       "        text-align: right;\n",
       "    }\n",
       "</style>\n",
       "<table border=\"1\" class=\"dataframe\">\n",
       "  <thead>\n",
       "    <tr style=\"text-align: right;\">\n",
       "      <th></th>\n",
       "      <th>title</th>\n",
       "      <th>genres</th>\n",
       "      <th>release_year</th>\n",
       "    </tr>\n",
       "  </thead>\n",
       "  <tbody>\n",
       "    <tr>\n",
       "      <th>13564</th>\n",
       "      <td>Titanic</td>\n",
       "      <td>action,drama,romance</td>\n",
       "      <td>1996</td>\n",
       "    </tr>\n",
       "  </tbody>\n",
       "</table>\n",
       "</div>"
      ],
      "text/plain": [
       "         title                genres  release_year\n",
       "13564  Titanic  action,drama,romance          1996"
      ]
     },
     "execution_count": 81,
     "metadata": {},
     "output_type": "execute_result"
    }
   ],
   "source": [
    "recommend_movies(\"Titanic\", 5)"
   ]
  },
  {
   "cell_type": "markdown",
   "metadata": {
    "id": "rrDNJVJ-mBEn"
   },
   "source": [
    "Evaluation Metrics"
   ]
  },
  {
   "cell_type": "code",
   "execution_count": 87,
   "metadata": {
    "executionInfo": {
     "elapsed": 21,
     "status": "ok",
     "timestamp": 1739887293553,
     "user": {
      "displayName": "JIN XUAN WONG",
      "userId": "13853549625254319314"
     },
     "user_tz": -480
    },
    "id": "NanX3ck-mNAw"
   },
   "outputs": [],
   "source": [
    "def evaluate_recommendations(test_movies, movies_df, cosine_sim, k_values=[5, 10, 15, 20]):\n",
    "    \"\"\"Evaluates the recommendation system using weighted precision and recall metrics.\"\"\"\n",
    "    precision_scores = []\n",
    "    recall_scores = []\n",
    "\n",
    "    for k in k_values:\n",
    "        k_precision = []\n",
    "        k_recall = []\n",
    "\n",
    "        for movie in test_movies:\n",
    "            recommendations = recommend_movies(movie, num_recommendations=k)[['title', 'genres']]\n",
    "            \n",
    "            # Get genres of the test movie\n",
    "            genre_data = movies_df.loc[movies_df['title'].str.lower().str.strip() == movie.lower().strip(), 'genres']\n",
    "            if genre_data.empty:\n",
    "                continue  # Skip if movie not found\n",
    "            \n",
    "            true_genres = set(genre_data.values[0].split(','))  # Convert genres into a set\n",
    "\n",
    "            # Calculate weighted relevance scores for recommended movies\n",
    "            total_relevance_score = 0\n",
    "            relevant_recommendations = 0\n",
    "\n",
    "            for _, row in recommendations.iterrows():\n",
    "                rec_genres = set(row['genres'].split(','))  # Convert recommended movie's genres into a set\n",
    "                genre_overlap = len(true_genres & rec_genres) / len(true_genres)  # % of matching genres\n",
    "                \n",
    "                if genre_overlap > 0:\n",
    "                    total_relevance_score += genre_overlap  # Sum relevance scores\n",
    "                    relevant_recommendations += 1  # Count movies with some relevance\n",
    "\n",
    "            # Compute weighted precision and recall\n",
    "            precision = total_relevance_score / k if k > 0 else 0\n",
    "            recall = total_relevance_score / len(true_genres) if len(true_genres) > 0 else 0\n",
    "\n",
    "            k_precision.append(precision)\n",
    "            k_recall.append(recall)\n",
    "\n",
    "        # Store mean precision & recall for this k\n",
    "        precision_scores.append(np.mean(k_precision))\n",
    "        recall_scores.append(np.mean(k_recall))\n",
    "\n",
    "    return k_values, precision_scores, recall_scores"
   ]
  },
  {
   "cell_type": "code",
   "execution_count": 89,
   "metadata": {
    "colab": {
     "base_uri": "https://localhost:8080/",
     "height": 607
    },
    "executionInfo": {
     "elapsed": 2062,
     "status": "ok",
     "timestamp": 1739887295595,
     "user": {
      "displayName": "JIN XUAN WONG",
      "userId": "13853549625254319314"
     },
     "user_tz": -480
    },
    "id": "3PVkQihnmxKF",
    "outputId": "0ba371e0-ebd4-48f3-9c07-f55a6a1e427e"
   },
   "outputs": [
    {
     "name": "stdout",
     "output_type": "stream",
     "text": [
      "\n",
      "Evaluation Results:\n",
      "k=5: Precision=0.5070, Recall=1.2457\n",
      "k=10: Precision=0.5095, Recall=2.5602\n",
      "k=15: Precision=0.4997, Recall=3.7203\n",
      "k=20: Precision=0.4778, Recall=4.6022\n"
     ]
    },
    {
     "data": {
      "image/png": "[encoded data removed]",
      "text/plain": [
       "<Figure size 800x600 with 1 Axes>"
      ]
     },
     "metadata": {},
     "output_type": "display_data"
    }
   ],
   "source": [
    "# Set a random seed for reproducibility\n",
    "np.random.seed(42)\n",
    "\n",
    "# Run Evaluation with multiple k values\n",
    "test_movies = movies_df['title'].sample(10, random_state=42).tolist()\n",
    "k_values, precision_scores, recall_scores = evaluate_recommendations(test_movies, movies_df, cosine_sim)\n",
    "\n",
    "# Print the evaluation results\n",
    "print(\"\\nEvaluation Results:\")\n",
    "for k, precision, recall in zip(k_values, precision_scores, recall_scores):\n",
    "    print(f\"k={k}: Precision={precision:.4f}, Recall={recall:.4f}\")\n",
    "\n",
    "# Plot Precision-Recall Curve\n",
    "plt.figure(figsize=(8, 6))\n",
    "plt.plot(recall_scores, precision_scores, marker='o', linestyle='-', color='b', label=\"Precision-Recall\")\n",
    "plt.xlabel(\"Recall\")\n",
    "plt.ylabel(\"Precision\")\n",
    "plt.title(\"Precision-Recall Curve for Movie Recommendation\")\n",
    "plt.grid(True, which='both', linestyle='--', linewidth=0.5)\n",
    "\n",
    "# Annotate the points with k values\n",
    "for i, k in enumerate(k_values):\n",
    "    plt.annotate(f\"k={k}\", (recall_scores[i], precision_scores[i]), textcoords=\"offset points\", xytext=(-10,5), ha='center')\n",
    "\n",
    "plt.legend()\n",
    "plt.show()"
   ]
  },
  {
   "cell_type": "markdown",
   "metadata": {
    "id": "NrGmq1kqKAur"
   },
   "source": [
    "**Fine-Tuning**\n",
    "\n",
    "Adjust TF-IDF Parameters"
   ]
  },
  {
   "cell_type": "code",
   "execution_count": 95,
   "metadata": {
    "colab": {
     "base_uri": "https://localhost:8080/"
    },
    "executionInfo": {
     "elapsed": 16287,
     "status": "ok",
     "timestamp": 1739887311872,
     "user": {
      "displayName": "JIN XUAN WONG",
      "userId": "13853549625254319314"
     },
     "user_tz": -480
    },
    "id": "Q2AkOyeb51jG",
    "outputId": "21a55e48-da3b-4886-ad50-6e6a4551831f"
   },
   "outputs": [
    {
     "name": "stdout",
     "output_type": "stream",
     "text": [
      "TF-IDF matrix shape: (21818, 17635)\n",
      "Cosine Similarity Matrix shape: (21818, 21818)\n"
     ]
    }
   ],
   "source": [
    "# Initialize TF-IDF Vectorizer with tuned hyperparameters\n",
    "tfidf = TfidfVectorizer(stop_words='english', max_df=0.8, min_df=2)\n",
    "\n",
    "# Fit and transform the metadata_soup (instead of content_features)\n",
    "tfidf_matrix = tfidf.fit_transform(movies_df['metadata_soup'])\n",
    "\n",
    "# Compute the cosine similarity matrix\n",
    "cosine_sim = cosine_similarity(tfidf_matrix, tfidf_matrix)\n",
    "\n",
    "# Check the shape of the matrices\n",
    "print(f\"TF-IDF matrix shape: {tfidf_matrix.shape}\")\n",
    "print(f\"Cosine Similarity Matrix shape: {cosine_sim.shape}\")\n"
   ]
  },
  {
   "cell_type": "code",
   "execution_count": 97,
   "metadata": {
    "colab": {
     "base_uri": "https://localhost:8080/",
     "height": 537
    },
    "executionInfo": {
     "elapsed": 3256,
     "status": "ok",
     "timestamp": 1739887315124,
     "user": {
      "displayName": "JIN XUAN WONG",
      "userId": "13853549625254319314"
     },
     "user_tz": -480
    },
    "id": "602nmE1yK9ws",
    "outputId": "97241ec5-0601-4fa5-9ffc-3b35ef0adaf6"
   },
   "outputs": [
    {
     "name": "stdout",
     "output_type": "stream",
     "text": [
      "\n",
      "Updated Evaluation Results After TF-IDF Tuning:\n",
      "k=5: Precision=0.5370, Recall=1.3707\n",
      "k=10: Precision=0.5510, Recall=2.7920\n",
      "k=15: Precision=0.5403, Recall=4.1498\n",
      "k=20: Precision=0.5360, Recall=5.5665\n"
     ]
    },
    {
     "data": {
      "image/png": "[encoded data removed]",
      "text/plain": [
       "<Figure size 800x600 with 1 Axes>"
      ]
     },
     "metadata": {},
     "output_type": "display_data"
    }
   ],
   "source": [
    "# Set a random seed for reproducibility\n",
    "np.random.seed(42)\n",
    "\n",
    "# Select 10 random test movies\n",
    "test_movies = movies_df['title'].sample(10, random_state=42).tolist()\n",
    "\n",
    "# Run evaluation with multiple k values\n",
    "k_values, precision_scores, recall_scores = evaluate_recommendations(test_movies, movies_df, cosine_sim)\n",
    "\n",
    "# Print the updated evaluation results\n",
    "print(\"\\nUpdated Evaluation Results After TF-IDF Tuning:\")\n",
    "for k, precision, recall in zip(k_values, precision_scores, recall_scores):\n",
    "    print(f\"k={k}: Precision={precision:.4f}, Recall={recall:.4f}\")\n",
    "\n",
    "# Plot the new Precision-Recall Curve\n",
    "plt.figure(figsize=(8, 6))\n",
    "plt.plot(recall_scores, precision_scores, marker='o', linestyle='-', color='b', label=\"Precision-Recall (Tuned)\")\n",
    "plt.xlabel(\"Recall\")\n",
    "plt.ylabel(\"Precision\")\n",
    "plt.title(\"Precision-Recall Curve for Movie Recommendation (After Tuning)\")\n",
    "plt.grid(True, which='both', linestyle='--', linewidth=0.5)\n",
    "\n",
    "# Annotate the points with k values\n",
    "for i, k in enumerate(k_values):\n",
    "    plt.annotate(f\"k={k}\", (recall_scores[i], precision_scores[i]), textcoords=\"offset points\", xytext=(-10,5), ha='center')\n",
    "\n",
    "plt.legend()\n",
    "plt.show()"
   ]
  },
  {
   "cell_type": "code",
   "execution_count": 99,
   "metadata": {
    "colab": {
     "base_uri": "https://localhost:8080/"
    },
    "executionInfo": {
     "elapsed": 399333,
     "status": "ok",
     "timestamp": 1739887714451,
     "user": {
      "displayName": "JIN XUAN WONG",
      "userId": "13853549625254319314"
     },
     "user_tz": -480
    },
    "id": "G9xHekJaWrKL",
    "outputId": "9c2138ba-2c60-4ac3-dffc-a53f0a31addf"
   },
   "outputs": [
    {
     "name": "stdout",
     "output_type": "stream",
     "text": [
      "✅ Saved cosine similarity matrix and indices for deployment!\n"
     ]
    }
   ],
   "source": [
    "import os\n",
    "import joblib\n",
    "import pickle\n",
    "\n",
    "local_dir = \"./Pickle\"\n",
    "os.makedirs(local_dir, exist_ok=True)\n",
    "\n",
    "# Save the cosine similarity matrix\n",
    "with open(f\"{local_dir}/cosine_sim.pkl\", 'wb') as f:\n",
    "    pickle.dump(cosine_sim, f)\n",
    "\n",
    "# Save the movie indices mapping\n",
    "with open(f\"{local_dir}/indices.pkl\", 'wb') as f:\n",
    "    pickle.dump(indices, f)\n",
    "\n",
    "print(\"✅ Saved cosine similarity matrix and indices for deployment!\")"
   ]
  },
  {
   "cell_type": "code",
   "execution_count": null,
   "metadata": {},
   "outputs": [],
   "source": []
  }
 ],
 "metadata": {
  "colab": {
   "authorship_tag": "ABX9TyO6epIP2exQNfARAdfXEKWG",
   "provenance": []
  },
  "kernelspec": {
   "display_name": "Python 3 (ipykernel)",
   "language": "python",
   "name": "python3"
  },
  "language_info": {
   "codemirror_mode": {
    "name": "ipython",
    "version": 3
   },
   "file_extension": ".py",
   "mimetype": "text/x-python",
   "name": "python",
   "nbconvert_exporter": "python",
   "pygments_lexer": "ipython3",
   "version": "3.12.4"
  }
 },
 "nbformat": 4,
 "nbformat_minor": 4
}
